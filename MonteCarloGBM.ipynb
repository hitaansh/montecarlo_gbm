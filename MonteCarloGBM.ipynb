{
 "cells": [
  {
   "cell_type": "markdown",
   "id": "6d953392-7fe1-4eaf-b82e-0a92bde97a75",
   "metadata": {},
   "source": [
    "## Monte Carlo Simulation using Geometric Brownian Motion\n",
    "### By Hitaansh Gaur\n",
    "\n"
   ]
  },
  {
   "cell_type": "code",
   "execution_count": 1,
   "id": "dfba13d3-a086-4bcb-820d-82174244f208",
   "metadata": {},
   "outputs": [],
   "source": [
    "# Packages\n",
    "import numpy as np\n",
    "import matplotlib.pyplot as plt\n",
    "import pandas as pd"
   ]
  },
  {
   "cell_type": "markdown",
   "id": "9f40bb3a-bbba-4152-b948-86edf77a23d6",
   "metadata": {},
   "source": [
    "We wil be considering a hypothetical stock market portfolio whose value follows Geometric Brownian Motion. We are assuming the continuously compounded real rate of interest is $r_\\text{real}=0.87$% per year, and the continuously compounded inflation rate is $i = 2.87$% per year, the continuously compounded risk premium is $\\pi = 6.26$% per year, and the annualized standard deviation of log returns is $\\sigma = 15.91$%.\n",
    "\n",
    "How did we get these numbers? They were obtained from the file \"100 Year Summary\" in the S&P Experiment Project where we did analysis on 100 years of both S&P and Bond data. \n",
    "\n",
    "Lets first see what the expected nominal value of one dollar will be after a certain number of years. We will compare this to the the real returns."
   ]
  }
 ],
 "metadata": {
  "kernelspec": {
   "display_name": "Python 3 (ipykernel)",
   "language": "python",
   "name": "python3"
  },
  "language_info": {
   "codemirror_mode": {
    "name": "ipython",
    "version": 3
   },
   "file_extension": ".py",
   "mimetype": "text/x-python",
   "name": "python",
   "nbconvert_exporter": "python",
   "pygments_lexer": "ipython3",
   "version": "3.9.17"
  }
 },
 "nbformat": 4,
 "nbformat_minor": 5
}
